{
 "cells": [
  {
   "cell_type": "markdown",
   "metadata": {},
   "source": [
    "# Producing Code from a Project Plans\n",
    "This notebook is for experimenting with having an LLM write code based on a project plan."
   ]
  },
  {
   "cell_type": "code",
   "execution_count": null,
   "metadata": {},
   "outputs": [
    {
     "name": "stdout",
     "output_type": "stream",
     "text": [
      "OPENAI_API_KEY is set correctly.\n"
     ]
    }
   ],
   "source": [
    "# Load environment variables from .env file\n",
    "from dotenv import load_dotenv\n",
    "import os\n",
    "import warnings\n",
    "\n",
    "warnings.filterwarnings(\"ignore\")\n",
    "load_dotenv()\n",
    "openai_api_key = os.getenv(\"OPENAI_API_KEY\")\n",
    "if openai_api_key:\n",
    "    print(\"OPENAI_API_KEY is set correctly.\")\n",
    "else:\n",
    "    print(\"OPENAI_API_KEY is not set.\")"
   ]
  },
  {
   "cell_type": "code",
   "execution_count": null,
   "metadata": {},
   "outputs": [],
   "source": [
    "code_policies = [\n",
    "    {\n",
    "        \"name\": \"Readability and Maintainability (CLEAN Code Principles)\",\n",
    "        \"description\": \"Ensure the code is easy to read, understand, and extend.\",\n",
    "        \"policies\": [\n",
    "            \"Use meaningful names for functions, variables, and files.\",\n",
    "            \"Keep functions short and focused.\",\n",
    "            \"Avoid deep nesting of conditions and loops.\",\n",
    "            \"Follow consistent coding style guides (e.g., PEP8 for Python).\",\n",
    "        ],\n",
    "    },\n",
    "    {\n",
    "        \"name\": \"Testing and Validation\",\n",
    "        \"description\": \"Ensure correctness and reliability through consistent testing.\",\n",
    "        \"policies\": [\n",
    "            \"Write unit tests for every critical function.\",\n",
    "            \"Validate CSV input/output schemas.\",\n",
    "            \"Handle edge cases gracefully (e.g., empty CSV files, malformed rows).\",\n",
    "            \"Use assertions for critical assumptions within functions.\",\n",
    "        ],\n",
    "    },\n",
    "    {\n",
    "        \"name\": \"Documentation\",\n",
    "        \"description\": \"Make the code easy to understand for future contributors.\",\n",
    "        \"policies\": [\n",
    "            \"Add docstrings to functions, classes, and modules.\",\n",
    "            \"Include examples of inputs/outputs.\",\n",
    "            \"Use comments only when the intent is not obvious from the code.\",\n",
    "        ],\n",
    "    },\n",
    "    {\n",
    "        \"name\": \"Configuration Management\",\n",
    "        \"description\": \"Avoid hardcoding settings and paths.\",\n",
    "        \"policies\": [\n",
    "            \"Use a config file (e.g., config.json, .env) for environment-specific variables.\",\n",
    "            \"Keep configurations separate from the core logic.\",\n",
    "            \"Validate configuration files during initialization.\",\n",
    "        ],\n",
    "    },\n",
    "    {\n",
    "        \"name\": \"Error Handling and Logging\",\n",
    "        \"description\": \"Ensure graceful error recovery and meaningful logs.\",\n",
    "        \"policies\": [\n",
    "            \"Handle CSV-related errors explicitly (e.g., parsing, missing columns).\",\n",
    "            \"Provide clear error messages for failures.\",\n",
    "            \"Implement logging for key events and errors.\",\n",
    "            \"Avoid catching generic exceptions (e.g., except Exception).\",\n",
    "        ],\n",
    "    },\n",
    "    {\n",
    "        \"name\": \"Dependency Management\",\n",
    "        \"description\": \"Keep external dependencies minimal and well-documented.\",\n",
    "        \"policies\": [\n",
    "            \"List dependencies explicitly in a requirements.txt file.\",\n",
    "            \"Use standard libraries where possible.\",\n",
    "            \"Ensure dependencies are up-to-date and stable.\",\n",
    "        ],\n",
    "    },\n",
    "]\n",
    "\n",
    "project_policies = [\n",
    "    {\n",
    "        \"name\": \"Documentation and Transparency\",\n",
    "        \"description\": \"Make the project easy to understand for future contributors.\",\n",
    "        \"policies\": [\n",
    "            \"Provide a README.md with clear instructions on usage, purpose, and setup.\",\n",
    "            \"Include examples of inputs/outputs.\",\n",
    "        ],\n",
    "    },\n",
    "]"
   ]
  }
 ],
 "metadata": {
  "kernelspec": {
   "display_name": "venv",
   "language": "python",
   "name": "python3"
  },
  "language_info": {
   "name": "python",
   "version": "3.12.8"
  }
 },
 "nbformat": 4,
 "nbformat_minor": 2
}
