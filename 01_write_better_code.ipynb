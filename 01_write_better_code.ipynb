{
 "cells": [
  {
   "cell_type": "markdown",
   "metadata": {},
   "source": [
    "# Producing Project Plans\n",
    "This notebook is for experimenting with having an LLM plan out a coding project."
   ]
  },
  {
   "cell_type": "code",
   "execution_count": null,
   "metadata": {},
   "outputs": [],
   "source": [
    "# Load environment variables from .env file\n",
    "from dotenv import load_dotenv\n",
    "import os\n",
    "import warnings\n",
    "\n",
    "from openai import OpenAI\n",
    "\n",
    "warnings.filterwarnings(\"ignore\")\n",
    "load_dotenv()\n",
    "openai_api_key = os.getenv(\"OPENAI_API_KEY\")\n",
    "if openai_api_key:\n",
    "    print(\"OPENAI_API_KEY is set correctly.\")\n",
    "else:\n",
    "    print(\"OPENAI_API_KEY is not set.\")"
   ]
  },
  {
   "cell_type": "code",
   "execution_count": 2,
   "metadata": {},
   "outputs": [],
   "source": [
    "architecture_policies = [\n",
    "    {\n",
    "        \"name\": \"Modularity and Function-Oriented Design\",\n",
    "        \"description\": \"Design the codebase as a collection of small, focused functions, each performing one clear task.\",\n",
    "        \"policies\": [\n",
    "            \"Each function should have a single responsibility.\",\n",
    "            \"Functions should be stateless where possible.\",\n",
    "            \"Avoid side effects (e.g., global state modifications).\",\n",
    "            \"Write reusable and composable functions.\",\n",
    "        ],\n",
    "    },\n",
    "    {\n",
    "        \"name\": \"CSV as the Core Data Format\",\n",
    "        \"description\": \"Treat CSV files as the primary medium for data input, output, and inter-process communication.\",\n",
    "        \"policies\": [\n",
    "            \"Input and output data should default to CSV files instead of strings.\",\n",
    "            \"Functions should focus on reading from and writing to CSV files.\",\n",
    "            \"Encapsulate CSV parsing and writing logic into dedicated utility functions.\",\n",
    "            \"Ensure CSV schemas are consistent and well-documented.\",\n",
    "        ],\n",
    "    },\n",
    "    {\n",
    "        \"name\": \"Separation of Concerns\",\n",
    "        \"description\": \"Keep concerns (e.g., data handling, computation, and presentation) isolated.\",\n",
    "        \"policies\": [\n",
    "            \"Separate data processing, business logic, and I/O operations.\",\n",
    "            \"Avoid mixing CSV parsing with computation logic in the same function.\",\n",
    "            \"Use interfaces or adapters for external dependencies (e.g., file systems).\",\n",
    "        ],\n",
    "    },\n",
    "    {\n",
    "        \"name\": \"Data Flow Transparency\",\n",
    "        \"description\": \"Ensure clarity in how data moves through the system.\",\n",
    "        \"policies\": [\n",
    "            \"Functions should explicitly accept inputs and return outputs.\",\n",
    "            \"Avoid relying on hidden state or global variables.\",\n",
    "            \"Use clear pipelines when chaining multiple data transformations.\",\n",
    "        ],\n",
    "    },\n",
    "    {\n",
    "        \"name\": \"Minimalism (Unix Philosophy)\",\n",
    "        \"description\": \"Build small, sharp tools that can be combined in pipelines.\",\n",
    "        \"policies\": [\n",
    "            \"Functions should do one thing well.\",\n",
    "            \"Allow for chaining outputs to other scripts/tools.\",\n",
    "            \"Favor simplicity over cleverness in implementation.\",\n",
    "            \"Document command-line or API interfaces for integration.\",\n",
    "        ],\n",
    "    },\n",
    "]\n",
    "policy_list = list(\n",
    "    set(policy for item in architecture_policies for policy in item.get(\"policies\", []))\n",
    ")\n",
    "policies = \"\\n\\t- \".join(policy_list)"
   ]
  },
  {
   "cell_type": "code",
   "execution_count": 3,
   "metadata": {},
   "outputs": [],
   "source": [
    "project_plan_template = \"\"\"\n",
    "#################################\n",
    "#       PROJECT PLAN  TEMPLATE  #\n",
    "#################################\n",
    "\n",
    "## 1. Identify the Architectural Style\n",
    "Choose one:\n",
    "- Layered Architecture: Presentation, Business Logic, Data Access, Database\n",
    "- Microservices Architecture: Independent services for specific capabilities\n",
    "- Modular Monolith: Independent modules, shared deployment\n",
    "- Event-Driven Architecture: Event producers, consumers, queues\n",
    "\n",
    "## 2. Component Interface Definition\n",
    "Define clear APIs or interfaces:\n",
    "- Accepted Data: [Specify data input]\n",
    "- Returned Data: [Specify data output]\n",
    "- Communication Method: (e.g., REST, gRPC, Message Queue)\n",
    "\n",
    "## 3. Domain-Driven Design (DDD)\n",
    "Define bounded contexts:\n",
    "- User Context: [Responsibilities]\n",
    "- Order Context: [Responsibilities]\n",
    "- Payment Context: [Responsibilities]\n",
    "\n",
    "## 4. Dependency Management\n",
    "- Dependencies Between Components: [List dependencies]\n",
    "- Cyclic Dependency Avoidance: [Strategies]\n",
    "- Dependency Injection: [Yes/No, describe]\n",
    "\n",
    "## 5. Data Flow Between Sub-Components\n",
    "Describe data flow:\n",
    "- Sequence Diagram: [Describe interactions]\n",
    "- Data Flow Diagram: [Describe flow]\n",
    "- Component Diagram: [Describe dependencies]\n",
    "\n",
    "## 6. Component Documentation\n",
    "Document each component:\n",
    "- **Name:** [Unique Identifier]\n",
    "- **Purpose:** [Description of purpose]\n",
    "- **Inputs:** [Expected inputs]\n",
    "- **Outputs:** [Expected outputs]\n",
    "- **Dependencies:** [List dependencies]\n",
    "\n",
    "## 7. Visualization with Diagrams\n",
    "Provide or reference diagrams:\n",
    "- Component Diagram: [High-level overview]\n",
    "- Deployment Diagram: [Physical deployment setup]\n",
    "- Sequence Diagram: [Interaction flow]\n",
    "\n",
    "##############################\n",
    "#       END OF TEMPLATE      #\n",
    "##############################\n",
    "\"\"\""
   ]
  },
  {
   "cell_type": "code",
   "execution_count": 4,
   "metadata": {},
   "outputs": [],
   "source": [
    "project_ideas = [\n",
    "    \"Summarizer for long text documents, generating concise summaries.\",\n",
    "    \"Email analyzer to find key participants, topics, and action items.\",\n",
    "    \"Task prioritizer using CSV input for deadlines, importance, and dependencies.\",\n",
    "    \"Data cleaner for CSVs, detecting missing values and standardizing formats.\",\n",
    "    \"Web scraper to extract key info from URLs and save it into a CSV file.\",\n",
    "]"
   ]
  },
  {
   "cell_type": "code",
   "execution_count": 5,
   "metadata": {},
   "outputs": [],
   "source": [
    "project_plan_prompt_preamble = \"You are a software engineer tasked with designing a new project. Your goal is to create a project plan that follows best practices in software architecture and coding.\\n\"\n",
    "project_plan_prompt = f\"{project_plan_prompt_preamble}\\nYour project should adhere to the following policies::\\n {policies}\\n\\nSolve this problem:\\n {project_ideas[0]}\\n\\nFollow this template:\\n {project_plan_template}\\n\""
   ]
  },
  {
   "cell_type": "code",
   "execution_count": null,
   "metadata": {},
   "outputs": [],
   "source": [
    "print(project_plan_prompt)"
   ]
  },
  {
   "cell_type": "code",
   "execution_count": null,
   "metadata": {},
   "outputs": [],
   "source": [
    "\n",
    "client = OpenAI(api_key=openai_api_key)\n",
    "\n",
    "response = client.chat.completions.create(\n",
    "    model=\"o1-mini\", messages=[{\"role\": \"user\", \"content\": project_plan_prompt}]\n",
    ")\n",
    "plan = response.choices[0].message.content"
   ]
  },
  {
   "cell_type": "code",
   "execution_count": null,
   "metadata": {},
   "outputs": [],
   "source": [
    "print(plan)"
   ]
  },
  {
   "cell_type": "code",
   "execution_count": null,
   "metadata": {},
   "outputs": [],
   "source": []
  }
 ],
 "metadata": {
  "kernelspec": {
   "display_name": "venv",
   "language": "python",
   "name": "python3"
  },
  "language_info": {
   "codemirror_mode": {
    "name": "ipython",
    "version": 3
   },
   "file_extension": ".py",
   "mimetype": "text/x-python",
   "name": "python",
   "nbconvert_exporter": "python",
   "pygments_lexer": "ipython3",
   "version": "3.12.8"
  }
 },
 "nbformat": 4,
 "nbformat_minor": 2
}
