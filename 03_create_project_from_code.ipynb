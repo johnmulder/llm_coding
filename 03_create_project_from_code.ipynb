{
 "cells": [
  {
   "cell_type": "markdown",
   "metadata": {},
   "source": [
    "# Producing a simple project from a Project Plan and initial Code\n",
    "This notebook is for experimenting with having an LLM create a full (if very simple) \n",
    "project (with tests, pyproject.toml, README.md, requirements.txt, etc.) based on a project plan\n",
    "and a single initial single code file."
   ]
  },
  {
   "cell_type": "code",
   "execution_count": null,
   "metadata": {},
   "outputs": [],
   "source": [
    "import os\n",
    "import subprocess\n",
    "import warnings\n",
    "from pathlib import Path\n",
    "\n",
    "from dotenv import load_dotenv\n",
    "import openai\n",
    "\n",
    "warnings.filterwarnings(\"ignore\")\n",
    "load_dotenv()\n",
    "openai_api_key = os.getenv(\"OPENAI_API_KEY\")\n",
    "if openai_api_key:\n",
    "    print(\"OPENAI_API_KEY is set correctly.\")\n",
    "else:\n",
    "    print(\"OPENAI_API_KEY is not set.\")"
   ]
  },
  {
   "cell_type": "code",
   "execution_count": 2,
   "metadata": {},
   "outputs": [],
   "source": [
    "project_policies = [\n",
    "    {\n",
    "        \"name\": \"Documentation and Transparency\",\n",
    "        \"description\": \"Make the project easy to understand for future contributors.\",\n",
    "        \"policies\": [\n",
    "            \"Provide a README.md with clear instructions on usage, purpose, and setup.\",\n",
    "            \"Include examples of inputs/outputs.\",\n",
    "        ],\n",
    "    },\n",
    "    {\n",
    "        \"name\": \"Testing and Validation\",\n",
    "        \"description\": \"Ensure correctness and reliability through consistent testing.\",\n",
    "        \"policies\": [\n",
    "            \"Write unit tests for every critical function.\",\n",
    "            \"Validate CSV input/output schemas.\",\n",
    "            \"Handle edge cases gracefully (e.g., empty CSV files, malformed rows).\",\n",
    "            \"Use assertions for critical assumptions within functions.\",\n",
    "        ],\n",
    "    },\n",
    "]"
   ]
  },
  {
   "cell_type": "code",
   "execution_count": null,
   "metadata": {},
   "outputs": [],
   "source": [
    "style_policies = [\n",
    "    {\n",
    "        \"name\": \"Clarity and Brevity\",\n",
    "        \"description\": \"Strive to express ideas clearly and concisely.\",\n",
    "        \"policies\": [\n",
    "            \"Omit needless words.\",\n",
    "            \"Use definite, specific, and concrete language.\",\n",
    "            \"Prefer the active voice over the passive voice.\",\n",
    "        ],\n",
    "    },\n",
    "    {\n",
    "        \"name\": \"Consistency and Structure\",\n",
    "        \"description\": \"Maintain a logical and consistent structure in writing.\",\n",
    "        \"policies\": [\n",
    "            \"Use parallel structure in sentences and lists.\",\n",
    "            \"Keep related ideas together.\",\n",
    "            \"Follow a consistent tense throughout a section or document.\",\n",
    "        ],\n",
    "    },\n",
    "    {\n",
    "        \"name\": \"Grammar and Syntax\",\n",
    "        \"description\": \"Adhere to standard rules of grammar and syntax.\",\n",
    "        \"policies\": [\n",
    "            \"Place a comma before a conjunction in a compound sentence.\",\n",
    "            \"Ensure subject-verb agreement.\",\n",
    "            \"Avoid splitting infinitives unless it improves clarity.\",\n",
    "        ],\n",
    "    },\n",
    "    {\n",
    "        \"name\": \"Style and Tone\",\n",
    "        \"description\": \"Adopt a style and tone suitable for the audience and purpose.\",\n",
    "        \"policies\": [\n",
    "            \"Avoid overuse of qualifiers (e.g., very, really, quite).\",\n",
    "            \"Prefer plain and straightforward language over jargon or ornamentation.\",\n",
    "            \"Be respectful and considerate of the reader's perspective.\",\n",
    "        ],\n",
    "    },\n",
    "    {\n",
    "        \"name\": \"Formatting and Presentation\",\n",
    "        \"description\": \"Format writing for readability and visual clarity.\",\n",
    "        \"policies\": [\n",
    "            \"Use consistent punctuation and spacing.\",\n",
    "            \"Ensure proper use of headings and subheadings to organize content.\",\n",
    "            \"Avoid excessive capitalization and italics.\",\n",
    "        ],\n",
    "    },\n",
    "]"
   ]
  }
 ],
 "metadata": {
  "kernelspec": {
   "display_name": "venv",
   "language": "python",
   "name": "python3"
  },
  "language_info": {
   "codemirror_mode": {
    "name": "ipython",
    "version": 3
   },
   "file_extension": ".py",
   "mimetype": "text/x-python",
   "name": "python",
   "nbconvert_exporter": "python",
   "pygments_lexer": "ipython3",
   "version": "3.13.1"
  }
 },
 "nbformat": 4,
 "nbformat_minor": 2
}
