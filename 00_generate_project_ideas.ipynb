{
 "cells": [
  {
   "cell_type": "markdown",
   "metadata": {},
   "source": [
    "# Generating Project Ideas\n",
    "This notebook is for experimenting with having an LLM plan out a coding project."
   ]
  },
  {
   "cell_type": "code",
   "execution_count": null,
   "metadata": {},
   "outputs": [],
   "source": [
    "from dotenv import load_dotenv\n",
    "import os\n",
    "import warnings\n",
    "from openai import OpenAI\n",
    "from pydantic import BaseModel\n",
    "\n",
    "warnings.filterwarnings(\"ignore\")\n",
    "load_dotenv()\n",
    "openai_api_key = os.getenv(\"OPENAI_API_KEY\")\n",
    "if openai_api_key:\n",
    "    print(\"OPENAI_API_KEY is set correctly.\")\n",
    "else:\n",
    "    print(\"OPENAI_API_KEY is not set.\")"
   ]
  },
  {
   "cell_type": "code",
   "execution_count": null,
   "metadata": {},
   "outputs": [],
   "source": [
    "high_level_research_assistant_idea = '''\n",
    "# Designing a research assistant\n",
    "\n",
    "## Role\n",
    "\n",
    "You are a software architect.\n",
    "\n",
    "## Task\n",
    "\n",
    "You are designing a \"Research Article & Literature Review Assistant\" that meets the following general description:\n",
    "\n",
    "    Platform for researchers and students who need quick summaries of\n",
    "    academic papers and topic areas.\n",
    "\n",
    "## Potential workflows\n",
    "\n",
    "- Upload a paper (PDF or text), extract relevant sections, and have\n",
    "  LangChain produce a structured summary or highlight important points.\n",
    "- Upload a paper, recieve a structured curriculum for the topics that the\n",
    "  paper relies on, including the option to interactively select which\n",
    "  topics the user already knows (possibly with an option to be quized to\n",
    "  determine if the understanding is sufficient).\n",
    "- Select a topic area, subtopic, etc. and when user decides that the topic\n",
    "  is specific enough, get a curriculum similar to that provided by the\n",
    "  previous workflow.\n",
    "\n",
    "## Key Features\n",
    "\n",
    "- PDF parser integration (e.g., PyPDF2) to extract text from uploaded documents.\n",
    "- LLM summarization: Summarize sections, papers, and/or topics\n",
    "- Search & reference manager: Users can store results, references, and\n",
    "  notes in a personal library.\n",
    "- Citation generation: The assistant can generate citations in multiple\n",
    "  formats (APA, MLA, etc.) for any paper or section of a paper.\n",
    "\n",
    "## Request\n",
    "\n",
    "Given the above, provide a very high-level outline of the project,\n",
    "breaking it into components that can be designed as seperate small\n",
    "(less than a thousand lines) projects. This outline should be as a \n",
    "markdown document with no excess chat.'''"
   ]
  },
  {
   "cell_type": "code",
   "execution_count": null,
   "metadata": {},
   "outputs": [],
   "source": [
    "class FunctionSpecification(BaseModel):\n",
    "    name: str\n",
    "    description: str\n",
    "\n",
    "\n",
    "class ModuleSpecification(BaseModel):\n",
    "    title: str\n",
    "    purpose: str\n",
    "    functional_requirements: list[str]\n",
    "    function_specs: list[FunctionSpecification]"
   ]
  },
  {
   "cell_type": "code",
   "execution_count": null,
   "metadata": {},
   "outputs": [],
   "source": [
    "client = OpenAI(api_key=openai_api_key)\n",
    "completion = client.beta.chat.completions.parse(\n",
    "    model=\"gpt-4o-2024-08-06\",\n",
    "    messages=[\n",
    "        {\"role\": \"system\", \"content\": \"Extract the event information.\"},\n",
    "        {\n",
    "            \"role\": \"user\",\n",
    "            \"content\": specification_request,\n",
    "        },\n",
    "    ],\n",
    "    response_format=ModuleSpecification,\n",
    ")\n",
    "\n",
    "event = completion.choices[0].message.parsed"
   ]
  }
 ],
 "metadata": {
  "kernelspec": {
   "display_name": "Python 3",
   "language": "python",
   "name": "python3"
  },
  "language_info": {
   "codemirror_mode": {
    "name": "ipython",
    "version": 3
   },
   "file_extension": ".py",
   "mimetype": "text/x-python",
   "name": "python",
   "nbconvert_exporter": "python",
   "pygments_lexer": "ipython3",
   "version": "3.13.3"
  }
 },
 "nbformat": 4,
 "nbformat_minor": 2
}
